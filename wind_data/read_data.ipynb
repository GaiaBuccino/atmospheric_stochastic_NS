{
 "cells": [
  {
   "cell_type": "code",
   "execution_count": 66,
   "metadata": {},
   "outputs": [],
   "source": [
    "import pandas as pd\n",
    "import numpy as np\n",
    "import matplotlib.pyplot as plt"
   ]
  },
  {
   "cell_type": "code",
   "execution_count": 110,
   "metadata": {},
   "outputs": [],
   "source": [
    "file_names = [ \"dati-orari-Trieste molo F.lli Bandiera-%4d%02d.csv\"%(year,month) for month in range(1,13) for year in [2021,2022]]\n",
    "\n",
    "file_names = [ \"dati-orari-Boa Paloma (fino al 06_02_2018)-%4d%02d.csv\"%(year,month) for month in range(1,13) for year in [2022]]\n",
    "\n",
    "\n",
    "def readcsv(args):\n",
    "    return pd.read_csv(args, sep=\";\",skipfooter=3)\n",
    "\n",
    "data_tot = pd.concat(map(readcsv, file_names))\n"
   ]
  },
  {
   "cell_type": "code",
   "execution_count": 111,
   "metadata": {},
   "outputs": [
    {
     "name": "stdout",
     "output_type": "stream",
     "text": [
      "4284\n"
     ]
    }
   ],
   "source": [
    "# data_tot[\"Direzione Vento gradi N\"].iloc[]\n",
    "ll = len(data_tot)\n",
    "print(sum([data_tot[\"Direzione Vento gradi N\"].iloc[i]==\"-\" and data_tot[\"Vento med km/h\"].iloc[i]==\"-\" for i in range(ll)]))\n",
    "# print(sum(data_tot[\"Vento med km/h\"]==\"-\"))"
   ]
  },
  {
   "cell_type": "code",
   "execution_count": 112,
   "metadata": {},
   "outputs": [],
   "source": [
    "ll = len(data_tot)\n",
    "wind_dir = [ [ data_tot[\"Vento med km/h\"].iloc[i], data_tot[\"Direzione Vento gradi N\"].iloc[i] ] for i in range(ll) \\\n",
    "            if (not isinstance(data_tot[\"Vento med km/h\"].iloc[i], str) and  not isinstance(data_tot[\"Direzione Vento gradi N\"].iloc[i] , str)  ) ]\n"
   ]
  },
  {
   "cell_type": "code",
   "execution_count": 113,
   "metadata": {},
   "outputs": [],
   "source": [
    "wind_dir = np.array(wind_dir)\n",
    "H, speed_edges, dir_edges = np.histogram2d(wind_dir[:,0],wind_dir[:,1],bins=20)"
   ]
  },
  {
   "cell_type": "code",
   "execution_count": 114,
   "metadata": {},
   "outputs": [
    {
     "data": {
      "text/plain": [
       "<matplotlib.colorbar.Colorbar at 0x7f221350cdc0>"
      ]
     },
     "execution_count": 114,
     "metadata": {},
     "output_type": "execute_result"
    },
    {
     "data": {
      "image/png": "[encoded data removed]",
      "text/plain": [
       "<Figure size 720x720 with 2 Axes>"
      ]
     },
     "metadata": {
      "needs_background": "light"
     },
     "output_type": "display_data"
    }
   ],
   "source": [
    "fig = plt.figure(figsize=(10,10))\n",
    "plt.imshow(H.T, origin='lower',\n",
    "        extent=[speed_edges[0], speed_edges[-1], dir_edges[0], dir_edges[-1]])\n",
    "plt.xlabel(\"Speeds\")\n",
    "plt.ylabel(\"Direction\")\n",
    "plt.colorbar()"
   ]
  }
 ],
 "metadata": {
  "kernelspec": {
   "display_name": "Python 3",
   "language": "python",
   "name": "python3"
  },
  "language_info": {
   "codemirror_mode": {
    "name": "ipython",
    "version": 3
   },
   "file_extension": ".py",
   "mimetype": "text/x-python",
   "name": "python",
   "nbconvert_exporter": "python",
   "pygments_lexer": "ipython3",
   "version": "3.9.7"
  },
  "orig_nbformat": 4
 },
 "nbformat": 4,
 "nbformat_minor": 2
}
